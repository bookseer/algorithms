{
 "cells": [
  {
   "cell_type": "markdown",
   "id": "98b5eb64",
   "metadata": {},
   "source": [
    "(asymptotic-notations.)=\n",
    "# Асимптотическая нотация"
   ]
  }
 ],
 "metadata": {
  "jupytext": {
   "text_representation": {
    "extension": ".md",
    "format_name": "myst"
   }
  },
  "kernelspec": {
   "display_name": "Python 3",
   "language": "python",
   "name": "python3"
  },
  "source_map": [
   10
  ]
 },
 "nbformat": 4,
 "nbformat_minor": 5
}